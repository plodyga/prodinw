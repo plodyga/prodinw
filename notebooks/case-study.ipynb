{
 "cells": [
  {
   "cell_type": "code",
   "execution_count": 37,
   "metadata": {},
   "outputs": [],
   "source": [
    "from IPython.display import Markdown, display"
   ]
  },
  {
   "cell_type": "markdown",
   "metadata": {},
   "source": [
    "## Zadania do analizy"
   ]
  },
  {
   "cell_type": "markdown",
   "metadata": {},
   "source": [
    "### 1. Analiza kontraktu Futures na WIG20"
   ]
  },
  {
   "cell_type": "code",
   "execution_count": 38,
   "metadata": {},
   "outputs": [
    {
     "data": {
      "text/markdown": [
       "**Wartość kontraktu futures na WIG20 wynosi  20000.00 zł.**"
      ],
      "text/plain": [
       "<IPython.core.display.Markdown object>"
      ]
     },
     "metadata": {},
     "output_type": "display_data"
    }
   ],
   "source": [
    "wig20 = 2000\n",
    "mnoznik = 10\n",
    "wartosc_kontaktu = wig20 * mnoznik\n",
    "\n",
    "display(Markdown(f\"**Wartość kontraktu futures na WIG20 wynosi {wartosc_kontaktu: .2f} zł.**\"))"
   ]
  },
  {
   "cell_type": "code",
   "execution_count": 39,
   "metadata": {},
   "outputs": [
    {
     "data": {
      "text/markdown": [
       "**Wysokość depozytu wstępnego wynosi  2000.00 zł.**"
      ],
      "text/plain": [
       "<IPython.core.display.Markdown object>"
      ]
     },
     "metadata": {},
     "output_type": "display_data"
    }
   ],
   "source": [
    "min_depozyt_wstepny = 0.1\n",
    "wartosc_depozytu_wstepnego = min_depozyt_wstepny * wartosc_kontaktu\n",
    "\n",
    "display(Markdown(f\"**Wysokość depozytu wstępnego wynosi {wartosc_depozytu_wstepnego: .2f} zł.**\"))"
   ]
  },
  {
   "cell_type": "code",
   "execution_count": 40,
   "metadata": {},
   "outputs": [
    {
     "data": {
      "text/markdown": [
       "**Po wzroście WIG20 do 2100 punktów, zysk wyniesie  1000.00 zł.**"
      ],
      "text/plain": [
       "<IPython.core.display.Markdown object>"
      ]
     },
     "metadata": {},
     "output_type": "display_data"
    }
   ],
   "source": [
    "wig20_po_wzroscie = 2100\n",
    "wartosc_kontaktu_po_wzroscie = wig20_po_wzroscie * mnoznik\n",
    "zysk = wartosc_kontaktu_po_wzroscie - wartosc_kontaktu\n",
    "\n",
    "display(Markdown(f\"**Po wzroście WIG20 do {wig20_po_wzroscie} punktów, zysk wyniesie {zysk: .2f} zł.**\"))\n"
   ]
  },
  {
   "cell_type": "markdown",
   "metadata": {},
   "source": [
    "### 2. Strategia opcji na akcje spółki XYZ"
   ]
  },
  {
   "cell_type": "code",
   "execution_count": 41,
   "metadata": {},
   "outputs": [
    {
     "data": {
      "text/markdown": [
       "**Koszt zakupu jednej opcji kupna (CALL) oraz jednej opcji sprzedaży (PUT) wynosi  250.00 zł każda.**"
      ],
      "text/plain": [
       "<IPython.core.display.Markdown object>"
      ]
     },
     "metadata": {},
     "output_type": "display_data"
    }
   ],
   "source": [
    "cena_akcji = 50\n",
    "mnoznik = 100\n",
    "premia_opcyjna = 0.05\n",
    "wartosc_nominalna_opcji = cena_akcji * mnoznik\n",
    "koszt_zakupu_jednej_opcji = premia_opcyjna * wartosc_nominalna_opcji\n",
    "\n",
    "display(Markdown(f\"**Koszt zakupu jednej opcji kupna (CALL) oraz jednej opcji sprzedaży (PUT) wynosi {koszt_zakupu_jednej_opcji: .2f} zł każda.**\"))"
   ]
  },
  {
   "cell_type": "code",
   "execution_count": 42,
   "metadata": {},
   "outputs": [
    {
     "data": {
      "text/markdown": [
       "**Po wzroście ceny akcji do 60 zł, zysk wyniesie  500.00 zł.**"
      ],
      "text/plain": [
       "<IPython.core.display.Markdown object>"
      ]
     },
     "metadata": {},
     "output_type": "display_data"
    }
   ],
   "source": [
    "cena_akcji_po_wzroscie = 60\n",
    "wartosc_wewnetrzna_call = max(0, cena_akcji_po_wzroscie - cena_akcji)\n",
    "wartosc_opcji_call = wartosc_wewnetrzna_call * mnoznik\n",
    "wartosc_wewnetrzna_put = max(0, cena_akcji - cena_akcji_po_wzroscie)\n",
    "wartosc_opcji_put = wartosc_wewnetrzna_put * mnoznik\n",
    "zysk = wartosc_opcji_call + wartosc_opcji_put - 2 * koszt_zakupu_jednej_opcji\n",
    "\n",
    "display(Markdown(f\"**Po wzroście ceny akcji do {cena_akcji_po_wzroscie} zł, zysk wyniesie {zysk: .2f} zł.**\"))"
   ]
  },
  {
   "cell_type": "code",
   "execution_count": 43,
   "metadata": {},
   "outputs": [
    {
     "data": {
      "text/markdown": [
       "**Po spadku ceny akcji do 40 zł, zysk wyniesie  500.00 zł.**"
      ],
      "text/plain": [
       "<IPython.core.display.Markdown object>"
      ]
     },
     "metadata": {},
     "output_type": "display_data"
    }
   ],
   "source": [
    "cena_akcji_po_spadku = 40\n",
    "wartosc_wewnetrzna_call = max(0, cena_akcji_po_spadku - cena_akcji)\n",
    "wartosc_opcji_call = wartosc_wewnetrzna_call * mnoznik\n",
    "wartosc_wewnetrzna_put = max(0, cena_akcji - cena_akcji_po_spadku)\n",
    "wartosc_opcji_put = wartosc_wewnetrzna_put * mnoznik\n",
    "zysk = wartosc_opcji_call + wartosc_opcji_put - 2 * koszt_zakupu_jednej_opcji\n",
    "\n",
    "display(Markdown(f\"**Po spadku ceny akcji do {cena_akcji_po_spadku} zł, zysk wyniesie {zysk: .2f} zł.**\"))"
   ]
  },
  {
   "cell_type": "markdown",
   "metadata": {},
   "source": [
    "### 3. Rozliczenie kontraktu forward na pszenicę"
   ]
  },
  {
   "cell_type": "code",
   "execution_count": 44,
   "metadata": {},
   "outputs": [
    {
     "data": {
      "text/markdown": [
       "**Wartość kontraktu forward na pszenicę wynosi  52000.00 zł.**"
      ],
      "text/plain": [
       "<IPython.core.display.Markdown object>"
      ]
     },
     "metadata": {},
     "output_type": "display_data"
    }
   ],
   "source": [
    "cena_kontraktu_forward = 500\n",
    "obecna_cena_pszenicy = 520\n",
    "ilosc = 100\n",
    "wartosc_kontraktu_forward = obecna_cena_pszenicy * ilosc\n",
    "\n",
    "display(Markdown(f\"**Wartość kontraktu forward na pszenicę wynosi {wartosc_kontraktu_forward: .2f} zł.**\"))"
   ]
  },
  {
   "cell_type": "code",
   "execution_count": 45,
   "metadata": {},
   "outputs": [
    {
     "data": {
      "text/markdown": [
       "**Po wzroście ceny pszenicy do 550 zł, zysk wyniesie  5000.00 zł.**"
      ],
      "text/plain": [
       "<IPython.core.display.Markdown object>"
      ]
     },
     "metadata": {},
     "output_type": "display_data"
    }
   ],
   "source": [
    "cena_pszenicy_po_wzroscie = 550\n",
    "zysk = (cena_pszenicy_po_wzroscie - cena_kontraktu_forward) * ilosc\n",
    "\n",
    "display(Markdown(f\"**Po wzroście ceny pszenicy do {cena_pszenicy_po_wzroscie} zł, zysk wyniesie {zysk: .2f} zł.**\"))"
   ]
  },
  {
   "cell_type": "markdown",
   "metadata": {},
   "source": [
    "## Pytania do dyskusji\n",
    "\n",
    "### 1. Ryzyko i zabezpieczenie (hedging)\n",
    "\n",
    "#### Jakie ryzyko wiąże się z inwestycjami Pana Kowalskiego w kontrakty futures i opcje?\n",
    "\n",
    "- zmiany cen bazowego aktywa mogą prowadzić do strat\n",
    "- istnieje ryzyko nie wywiązania się z kontraktu przez drugą stronę\n",
    "- ryzyko związane z płynnością kontraktu\n",
    "- zmienność rynku może wpływać na ceny opcji\n",
    "\n",
    "#### Jakie strategie zabezpieczenia (hedging) mógłby zastosować Pan Kowalski, aby minimalizować ryzyko swoich inwestycji?\n",
    "\n",
    "- może zawrzeć kontrakty futures na sprzedaż pszenicy, co pozwoli na zamrożenie ceny sprzedaży i zabezpieczenie przed spadkiem cen\n",
    "- może kupić opcje PUT jako zabezpieczenie przeciwko spadkowi ceny akcji\n",
    "- może zdywersyfikować portfel\n",
    "\n",
    "### 2. Spekulacja vs. zabezpieczenie\n",
    "\n",
    "#### Czy działania Pana Kowalskiego można zakwalifikować jako spekulację czy zabezpieczenie? Uzasadnij swoją odpowiedź.\n",
    "\n",
    "To zależy od sytuacji Pana Kowalskiego. Jeśli np. jest przedsiębiorcą i używa pszenicy w swoim zakładzie to raczej potrzebuje zabezpieczenia, natomiast jeśli inwestuje w instrumenty pochodne, w tym przypadku kontrakty terminowe na pszenicę, i jego celem jest tylko osiągnięcie zysku, to można to uznać za spekulację.\n",
    "\n",
    "### 3. Wpływ rynku i decyzje inwestycyjne\n",
    "\n",
    "#### Jakie czynniki rynkowe mogą wpłynąć na decyzje inwestycyjne Pana Kowalskiego?\n",
    "\n",
    "- zwyczajne wahania cen pszenicy i akcji\n",
    "- zdarzenia losowe, np. kataklizmy naturalne\n",
    "- warunki makroekonomiczne, w tym polityka monetarna\n",
    "\n",
    "#### Jakie decyzje powinien podjąć Pan Kowalski, aby optymalizować swoje inwestycje w kontrakty terminowe i opcje?\n",
    "\n",
    "Powinien być na bieżąco z tym co się dzieje w jego otoczeniu i szybko reagować w razie potrzeby. Może zarządzać ryzykiem np. analizując otoczenie i przygotowując plany na różne scenariusze. Może skutecznie wykorzystywać strategie hedgingowe. Wreszcie może inwestować we własną edukację."
   ]
  }
 ],
 "metadata": {
  "kernelspec": {
   "display_name": "Python 3",
   "language": "python",
   "name": "python3"
  },
  "language_info": {
   "codemirror_mode": {
    "name": "ipython",
    "version": 3
   },
   "file_extension": ".py",
   "mimetype": "text/x-python",
   "name": "python",
   "nbconvert_exporter": "python",
   "pygments_lexer": "ipython3",
   "version": "3.10.13"
  }
 },
 "nbformat": 4,
 "nbformat_minor": 2
}
